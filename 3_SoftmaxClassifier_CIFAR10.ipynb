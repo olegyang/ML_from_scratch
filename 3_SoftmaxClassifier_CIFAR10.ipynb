{
 "cells": [
  {
   "cell_type": "markdown",
   "metadata": {},
   "source": [
    "### Янгаличин Олег 184-322"
   ]
  },
  {
   "cell_type": "markdown",
   "metadata": {
    "colab_type": "text",
    "id": "qJ2_2BXgJIb7"
   },
   "source": [
    "# Классификация с помощью softmax\n",
    "\n",
    "Содержание практической работы:\n",
    "\n",
    "- функция потерь для softmax\n",
    "- аналитический градиент\n",
    "- его проверка с помощью численного градиента\n",
    "- подбор скорости обучения и степени регуляризации на проверочной выборке\n",
    "- оптимизация функции потерь с помощью стохастического градиентного спуска\n",
    "- визуализация конечных весов\n",
    "\n",
    "Статья о [Softmax](https://www.pyimagesearch.com/2016/09/12/softmax-classifiers-explained/) [eng]\n",
    "[Реализация 2 вариантов Softmax](https://ljvmiranda921.github.io/notebook/2017/02/14/softmax-classifier/) [eng]"
   ]
  },
  {
   "cell_type": "code",
   "execution_count": 17,
   "metadata": {
    "colab": {},
    "colab_type": "code",
    "id": "pr0UUParJIcB"
   },
   "outputs": [],
   "source": [
    "# Подключим основные библиотеки\n",
    "from __future__ import print_function\n",
    "\n",
    "import math\n",
    "import random\n",
    "import time\n",
    "from builtins import object, range\n",
    "\n",
    "import matplotlib.pyplot as plt\n",
    "import numpy as np\n",
    "#from past.builtins import xrange\n",
    "\n",
    "from random import randrange\n",
    "%matplotlib inline"
   ]
  },
  {
   "cell_type": "markdown",
   "metadata": {
    "colab_type": "text",
    "id": "mvhsW11CJIcK"
   },
   "source": [
    "## Загрузка базы CIFAR-10, создание выборок и подвыборок, первичная обработка и нормализация данных"
   ]
  },
  {
   "cell_type": "code",
   "execution_count": 18,
   "metadata": {
    "colab": {},
    "colab_type": "code",
    "id": "B4xBCBXuJIcM"
   },
   "outputs": [],
   "source": [
    "# # Определим функции для загрузки базы CIFAR-10\n",
    "\n",
    "# from six.moves import cPickle as pickle\n",
    "# import os\n",
    "# import platform\n",
    "\n",
    "# def load_pickle(f):\n",
    "#     version = platform.python_version_tuple()\n",
    "#     if version[0] == '2':\n",
    "#         return  pickle.load(f)\n",
    "#     elif version[0] == '3':\n",
    "#         return  pickle.load(f, encoding='latin1')\n",
    "#     raise ValueError(\"Неверная версия Python: {}\".format(version))\n",
    "\n",
    "# def load_CIFAR_batch(filename):\n",
    "#     with open(filename, 'rb') as f:\n",
    "#         datadict = load_pickle(f)\n",
    "#         X = datadict['data']\n",
    "#         Y = datadict['labels']\n",
    "#         X = X.reshape(10000, 3, 32, 32).transpose(0,2,3,1).astype(\"float\")\n",
    "#         Y = np.array(Y)\n",
    "#         return X, Y\n",
    "\n",
    "# def load_CIFAR10(ROOT):\n",
    "#     xs = []\n",
    "#     ys = []\n",
    "#     for b in range(1,6):\n",
    "#         f = os.path.join(ROOT, 'data_batch_%d' % (b, ))\n",
    "#         X, Y = load_CIFAR_batch(f)\n",
    "#         xs.append(X)\n",
    "#         ys.append(Y)\n",
    "#     Xtr = np.concatenate(xs)\n",
    "#     Ytr = np.concatenate(ys)\n",
    "#     del X, Y\n",
    "#     Xte, Yte = load_CIFAR_batch(os.path.join(ROOT, 'test_batch'))\n",
    "#     return Xtr, Ytr, Xte, Yte"
   ]
  },
  {
   "cell_type": "code",
   "execution_count": 19,
   "metadata": {},
   "outputs": [],
   "source": [
    "def procces_y_data(y):\n",
    "    y_true = y\n",
    "    y_ok =[]\n",
    "    for i in range(len(y_true)):\n",
    "        y_ok.append(y_true[i][0])\n",
    "    return np.array(y_ok)"
   ]
  },
  {
   "cell_type": "code",
   "execution_count": 20,
   "metadata": {},
   "outputs": [
    {
     "name": "stdout",
     "output_type": "stream",
     "text": [
      "Размерность изображений для обучения:  (49000, 3073)\n",
      "Размерность классов для обучения:  (49000,)\n",
      "Размерность изображений для проверки:  (1000, 3073)\n",
      "Размерность классов для проверки:  (1000,)\n",
      "Размерность изображений для тестирования:  (1000, 3073)\n",
      "Размерность классов для тестирования:  (1000,)\n",
      "Размерность изображений на время разработки:  (500, 3073)\n",
      "Размерность классов на время разработки:  (500,)\n"
     ]
    }
   ],
   "source": [
    "def get_CIFAR10_data(num_training=49000, num_validation=1000, num_test=1000, num_dev=500):\n",
    "\n",
    "#     # Путь до данных необходимо указать свой    \n",
    "#     cifar10_dir = '.\\\\cifar10'\n",
    "    \n",
    "#     # Сброс переменных для избежания многократной загрузки базы в память\n",
    "#     try:\n",
    "#         del X_train, y_train\n",
    "#         del X_test, y_test\n",
    "#         print('Сброс предыдущих данных.')\n",
    "#     except:\n",
    "#         pass\n",
    "\n",
    "#     X_train, y_train, X_test, y_test = load_CIFAR10(cifar10_dir)\n",
    "    from keras.datasets import cifar10\n",
    "    (X_train, y_train), (X_test, y_test) = cifar10.load_data()\n",
    "    X_train = X_train.astype('float64')\n",
    "    X_test = X_test.astype('float64')\n",
    "    y_train = procces_y_data(y_train)\n",
    "    y_test = procces_y_data(y_test)\n",
    "    \n",
    "    \n",
    "    # подвыбоки\n",
    "    mask = list(range(num_training, num_training + num_validation))\n",
    "    X_val = X_train[mask]\n",
    "    y_val = y_train[mask]\n",
    "    mask = list(range(num_training))\n",
    "    X_train = X_train[mask]\n",
    "    y_train = y_train[mask]\n",
    "    mask = list(range(num_test))\n",
    "    X_test = X_test[mask]\n",
    "    y_test = y_test[mask]\n",
    "    mask = np.random.choice(num_training, num_dev, replace=False)\n",
    "    X_dev = X_train[mask]\n",
    "    y_dev = y_train[mask]\n",
    "    \n",
    "    # Первичная обработка данных: преобразования изображений в ряды\n",
    "    X_train = np.reshape(X_train, (X_train.shape[0], -1))\n",
    "    X_val = np.reshape(X_val, (X_val.shape[0], -1))\n",
    "    X_test = np.reshape(X_test, (X_test.shape[0], -1))\n",
    "    X_dev = np.reshape(X_dev, (X_dev.shape[0], -1))\n",
    "    \n",
    "    # Нормализация данных: вычетаем среднее изображение\n",
    "    mean_image = np.mean(X_train, axis = 0)\n",
    "    X_train -= mean_image\n",
    "    X_val -= mean_image\n",
    "    X_test -= mean_image\n",
    "    X_dev -= mean_image\n",
    "    \n",
    "    # Добавляем отклонения и преобазуем в колонки\n",
    "    X_train = np.hstack([X_train, np.ones((X_train.shape[0], 1))])\n",
    "    X_val = np.hstack([X_val, np.ones((X_val.shape[0], 1))])\n",
    "    X_test = np.hstack([X_test, np.ones((X_test.shape[0], 1))])\n",
    "    X_dev = np.hstack([X_dev, np.ones((X_dev.shape[0], 1))])\n",
    "    \n",
    "    return X_train, y_train, X_val, y_val, X_test, y_test, X_dev, y_dev\n",
    "\n",
    "\n",
    "# Используем полученную функцию.\n",
    "X_train, y_train, X_val, y_val, X_test, y_test, X_dev, y_dev = get_CIFAR10_data()\n",
    "\n",
    "print('Размерность изображений для обучения: ', X_train.shape)\n",
    "print('Размерность классов для обучения: ', y_train.shape)\n",
    "print('Размерность изображений для проверки: ', X_val.shape)\n",
    "print('Размерность классов для проверки: ', y_val.shape)\n",
    "print('Размерность изображений для тестирования: ', X_test.shape)\n",
    "print('Размерность классов для тестирования: ', y_test.shape)\n",
    "print('Размерность изображений на время разработки: ', X_dev.shape)\n",
    "print('Размерность классов на время разработки: ', y_dev.shape)"
   ]
  },
  {
   "cell_type": "markdown",
   "metadata": {
    "colab_type": "text",
    "id": "8P5lVholJIcs"
   },
   "source": [
    "## Softmax классификатор\n",
    "\n",
    "Сначала напишем алгоритм с использованием циклов."
   ]
  },
  {
   "cell_type": "code",
   "execution_count": 21,
   "metadata": {
    "colab": {},
    "colab_type": "code",
    "id": "RoLt7nNPJIct"
   },
   "outputs": [],
   "source": [
    "def softmax_loss_naive(W, X, y, reg):\n",
    "    \"\"\"\n",
    "    Функция потерь Softmax через циклы\n",
    "\n",
    "    Вводы имеют размерность D, есть C классов, и работает с минисериями из N образцов.\n",
    "\n",
    "    Ввод:\n",
    "    - W: Массив numpy размерности (D, C) содержащий веса.\n",
    "    - X: Массив numpy размерности (N, D) содержащий данные для обучения;\n",
    "    - y: Массив numpy размерности (N,) содержащий названия классов для обучения.\n",
    "    - reg: (float) степень регуляризации.\n",
    "\n",
    "    Возвращает кортеж:\n",
    "    - потери как float\n",
    "    - градиент по отношению к весам; массив размерностью как W\n",
    "    \"\"\"\n",
    "    loss = 0.0\n",
    "    dW = np.zeros_like(W)\n",
    "\n",
    "    # Задание: рассчитайте потери softmax и градиент не используя циклы.\n",
    "    # Храните потери в loss, а градиент в dW.\n",
    "    # Не забудьте про регуляризацию.\n",
    "\n",
    "    # ***Начало вашего кода***\n",
    "    num_dims = W.shape[0]\n",
    "    num_classes = W.shape[1]\n",
    "    num_train = X.shape[0]\n",
    "    \n",
    "    loss = 0.0\n",
    "    for i in range(num_train):\n",
    "        curr = X[i]\n",
    "        yi = y[i]\n",
    "        scores = X[i].dot(W)\n",
    "        exp_scores = np.exp(scores)\n",
    "        \n",
    "        prob_scores = exp_scores/np.sum(exp_scores)\n",
    "        \n",
    "        for d in range(num_dims):\n",
    "            for k in range(num_classes):\n",
    "                if k == y[i]:\n",
    "                    dW[d, k] += X.T[d, i] * (prob_scores[k]-1)\n",
    "                else:\n",
    "                    dW[d, k] += X.T[d, i] * prob_scores[k]\n",
    "    \n",
    "        loss += -np.log(prob_scores[y[i]])\n",
    "\n",
    "    loss /= num_train\n",
    "    loss += reg * np.sum(W**2)\n",
    "  \n",
    "    dW /= num_train\n",
    "    dW += reg * W\n",
    "\n",
    "    # ***Конец вашего кода***\n",
    "\n",
    "    return loss, dW"
   ]
  },
  {
   "cell_type": "code",
   "execution_count": 22,
   "metadata": {},
   "outputs": [
    {
     "name": "stdout",
     "output_type": "stream",
     "text": [
      "Потери: 2.320147\n",
      "Проверка работоспособности: 2.302585\n"
     ]
    }
   ],
   "source": [
    "# Инициализация матрицы со случайными весами для softmax и используем ее для расчета потерь.\n",
    "W = np.random.randn(3073, 10) * 0.0001\n",
    "loss, grad = softmax_loss_naive(W, X_dev, y_dev, 0.0)\n",
    "\n",
    "# Потери должны быть близки к -log(0.1).\n",
    "print('Потери: %f' % loss)\n",
    "print('Проверка работоспособности: %f' % (-np.log(0.1)))"
   ]
  },
  {
   "cell_type": "code",
   "execution_count": 23,
   "metadata": {
    "colab": {},
    "colab_type": "code",
    "id": "kMTdWKAuJIcx"
   },
   "outputs": [],
   "source": [
    "#Функция для проверки градиента\n",
    "\n",
    "def grad_check_sparse(f, x, analytic_grad, num_checks=10, h=1e-5):\n",
    "    for i in range(num_checks):\n",
    "        ix = tuple([randrange(m) for m in x.shape])\n",
    "\n",
    "        oldval = x[ix]\n",
    "        x[ix] = oldval + h\n",
    "        fxph = f(x)\n",
    "        x[ix] = oldval - h\n",
    "        fxmh = f(x)\n",
    "        x[ix] = oldval\n",
    "\n",
    "        grad_numerical = (fxph - fxmh) / (2 * h)\n",
    "        grad_analytic = analytic_grad[ix]\n",
    "        rel_error = (abs(grad_numerical - grad_analytic) /\n",
    "                    (abs(grad_numerical) + abs(grad_analytic)))\n",
    "        print('Численный: %f аналитический: %f, относительная погрешность: %e'\n",
    "              %(grad_numerical, grad_analytic, rel_error))"
   ]
  },
  {
   "cell_type": "code",
   "execution_count": 24,
   "metadata": {},
   "outputs": [
    {
     "name": "stdout",
     "output_type": "stream",
     "text": [
      "Численный: 0.552514 аналитический: 0.552514, относительная погрешность: 3.009656e-08\n",
      "Численный: 0.581005 аналитический: 0.581005, относительная погрешность: 3.034776e-08\n",
      "Численный: 1.306770 аналитический: 1.306770, относительная погрешность: 3.036987e-09\n",
      "Численный: -3.052438 аналитический: -3.052438, относительная погрешность: 2.030015e-08\n",
      "Численный: -0.213446 аналитический: -0.213446, относительная погрешность: 6.228421e-08\n",
      "Численный: 0.250864 аналитический: 0.250864, относительная погрешность: 1.178352e-08\n",
      "Численный: 1.852015 аналитический: 1.852015, относительная погрешность: 2.817989e-08\n",
      "Численный: -1.107085 аналитический: -1.107085, относительная погрешность: 9.754218e-09\n",
      "Численный: -0.919627 аналитический: -0.919627, относительная погрешность: 3.106790e-08\n",
      "Численный: 2.308791 аналитический: 2.308791, относительная погрешность: 2.219975e-08\n",
      "Численный: -0.649925 аналитический: -0.658276, относительная погрешность: 6.383472e-03\n",
      "Численный: -1.024730 аналитический: -1.023442, относительная погрешность: 6.287329e-04\n",
      "Численный: -1.601012 аналитический: -1.597447, относительная погрешность: 1.114527e-03\n",
      "Численный: -1.057182 аналитический: -1.056850, относительная погрешность: 1.568870e-04\n",
      "Численный: 0.574741 аналитический: 0.582377, относительная погрешность: 6.599130e-03\n",
      "Численный: -0.537071 аналитический: -0.543065, относительная погрешность: 5.549415e-03\n",
      "Численный: -0.704548 аналитический: -0.713236, относительная погрешность: 6.127702e-03\n",
      "Численный: -0.229306 аналитический: -0.227772, относительная погрешность: 3.355838e-03\n",
      "Численный: -0.304211 аналитический: -0.302668, относительная погрешность: 2.543127e-03\n",
      "Численный: -2.597479 аналитический: -2.597639, относительная погрешность: 3.065949e-05\n"
     ]
    }
   ],
   "source": [
    "# Расчет потерь и градиента\n",
    "loss, grad = softmax_loss_naive(W, X_dev, y_dev, 0.0)\n",
    "\n",
    "# Как во втором задании используйте численный градиент для отладки кода.\n",
    "# Численный градиент должен быть близок к аналитическому.\n",
    "f = lambda w: softmax_loss_naive(w, X_dev, y_dev, 0.0)[0]\n",
    "grad_numerical = grad_check_sparse(f, W, grad, 10)\n",
    "\n",
    "# И также делаем еще одну проверку с регуляризацией.\n",
    "loss, grad = softmax_loss_naive(W, X_dev, y_dev, 5e1)\n",
    "f = lambda w: softmax_loss_naive(w, X_dev, y_dev, 5e1)[0]\n",
    "grad_numerical = grad_check_sparse(f, W, grad, 10)"
   ]
  },
  {
   "cell_type": "code",
   "execution_count": 25,
   "metadata": {},
   "outputs": [],
   "source": [
    "def softmax_loss_vectorized(W, X, y, reg):\n",
    "    \n",
    "# ввод аналогичен softmax_loss_naive\n",
    "\n",
    "    loss = 0.0\n",
    "    dW = np.zeros_like(W)\n",
    "\n",
    "    # Задание: рассчитайте потери softmax и градиент не используя явных циклов.\n",
    "    # Храните потери в loss, а градиент в dW.\n",
    "    # Не забудьте про регуляризацию.\n",
    "\n",
    "    # ***Начало вашего кода***\n",
    "\n",
    "    num_train = X.shape[0]\n",
    "\n",
    "    scores = np.dot(X, W)\n",
    "    exp_scores = np.exp(scores)\n",
    "    prob_scores = exp_scores/np.sum(exp_scores, axis=1, keepdims=True)\n",
    "    correct_log_probs = -np.log(prob_scores[range(num_train), y])\n",
    "    loss = np.sum(correct_log_probs)\n",
    "    loss /= num_train\n",
    "    loss += 0.5 * reg * np.sum(W**2)\n",
    "\n",
    "    # grads\n",
    "    dscores = prob_scores\n",
    "    dscores[range(num_train), y] -= 1\n",
    "    dW = np.dot(X.T, dscores)\n",
    "    dW /= num_train\n",
    "    dW += reg * W\n",
    "\n",
    "    # ***Конец вашего кода***\n",
    "\n",
    "    return loss, dW"
   ]
  },
  {
   "cell_type": "code",
   "execution_count": 26,
   "metadata": {},
   "outputs": [
    {
     "name": "stdout",
     "output_type": "stream",
     "text": [
      "Потери: 2.320147e+00 рассчитаны за 59.727270s\n",
      "Потери векторизованные: 2.320147e+00 рассчитаны за 0.254733s\n",
      "Разница потерь: 0.000000\n",
      "Разница градиентов: 0.000000\n"
     ]
    }
   ],
   "source": [
    "# Рассчитаем потери и сравним время.\n",
    "\n",
    "tic = time.time()\n",
    "loss_naive, grad_naive = softmax_loss_naive(W, X_dev, y_dev, 0.000005)\n",
    "toc = time.time()\n",
    "print('Потери: %e рассчитаны за %fs' % (loss_naive, toc - tic))\n",
    "\n",
    "tic = time.time()\n",
    "loss_vectorized, grad_vectorized = softmax_loss_vectorized(W, X_dev, y_dev, 0.000005)\n",
    "toc = time.time()\n",
    "print('Потери векторизованные: %e рассчитаны за %fs' % (loss_vectorized, toc - tic))\n",
    "\n",
    "# Используем Норму Фробениуса для сравнения двух градиентов.\n",
    "grad_difference = np.linalg.norm(grad_naive - grad_vectorized, ord='fro')\n",
    "print('Разница потерь: %f' % np.abs(loss_naive - loss_vectorized))\n",
    "print('Разница градиентов: %f' % grad_difference)"
   ]
  },
  {
   "cell_type": "markdown",
   "metadata": {},
   "source": [
    "О [Норме Фробениуса](http://mathworld.wolfram.com/FrobeniusNorm.html) [eng]\n",
    "На [Вики](https://ru.wikipedia.org/wiki/%D0%9D%D0%BE%D1%80%D0%BC%D0%B0_%D0%BC%D0%B0%D1%82%D1%80%D0%B8%D1%86%D1%8B#%D0%9D%D0%BE%D1%80%D0%BC%D0%B0_%D0%A4%D1%80%D0%BE%D0%B1%D0%B5%D0%BD%D0%B8%D1%83%D1%81%D0%B0) [рус]"
   ]
  },
  {
   "cell_type": "markdown",
   "metadata": {
    "colab_type": "text",
    "id": "tDTLPOePJIc_"
   },
   "source": [
    "### Класс — линейный классификатор\n",
    "\n",
    "Используйте код из задания по SVM, где вы создавали класс \"LinearClassifier\"."
   ]
  },
  {
   "cell_type": "code",
   "execution_count": 27,
   "metadata": {
    "colab": {},
    "colab_type": "code",
    "id": "uvlHf-fgJIdB"
   },
   "outputs": [],
   "source": [
    "### Скопируйте код для LinearClassifier из предыдущего задания.\n",
    "class LinearClassifier(object):\n",
    "\n",
    "    def __init__(self):\n",
    "        \n",
    "        self.W = None\n",
    "\n",
    "    def train(self, X, y, learning_rate=1e-3, reg=1e-5, num_iters=100,\n",
    "              batch_size=200, verbose=False):\n",
    "        \"\"\"\n",
    "        Обучения линейного классификатора с использованием стохастического градиентного спуска.\n",
    "        \n",
    "        Ввод \n",
    "        \n",
    "        - X: Массив numpy размерности (N, D) содержащий данные для обучения;\n",
    "        - y: Массив numpy размерности (N,) содержащий названия классов для обучения.\n",
    "        - learning_rate: (float) скорость обучения для оптимизации.\n",
    "        - reg: (float) степень регуляризации.\n",
    "        - num_iters: (integer) количество иттераций обучения\n",
    "        - batch_size: (integer) количество элементов для обучения на каждом шаге оптимизации.\n",
    "        - verbose: (boolean) если истина, выводить прогресс во время оптимизации.\n",
    "\n",
    "        Вывод:\n",
    "        Список содержащий значение потерь в каждой иттерации обучения.\n",
    "        \"\"\"\n",
    "        num_train, dim = X.shape\n",
    "        num_classes = np.max(y) + 1\n",
    "        if self.W is None:\n",
    "            # Инициализируем W\n",
    "            self.W = 0.001 * np.random.randn(dim, num_classes)\n",
    "\n",
    "        # Используем стохастический градиентный спуск для оптимизации W.\n",
    "        loss_history = []\n",
    "        for it in range(num_iters):\n",
    "            X_batch = None\n",
    "            y_batch = None\n",
    "\n",
    "        # Задание: взять подвыборку размером batch_size из данных для обучения и их классы\n",
    "        # для использования в этом шаге градиентного спуска.\n",
    "        # Храните данные в X_batch, а их соответствующие классы в y_batch.\n",
    "        # Можете использовать np.random.choice для генерации индексов.\n",
    "\n",
    "            # ***Начало вашего кода***\n",
    "\n",
    "            idx = np.random.choice(num_train, batch_size, replace=True)\n",
    "            X_batch = X[idx]\n",
    "            y_batch = y[idx]\n",
    "\n",
    "            # ***Конец вашего кода***\n",
    "\n",
    "            # Оцениваем потери и градиент\n",
    "            loss, grad = self.loss(X_batch, y_batch, reg)\n",
    "            loss_history.append(loss)\n",
    "\n",
    "            # Обновляем веса\n",
    "\n",
    "        # Задание: Обновить веса используя градиент и скорость обучения.\n",
    "\n",
    "            # ***Начало вашего кода***\n",
    "\n",
    "            self.W += -learning_rate * grad\n",
    "            \n",
    "            # ***Конец вашего кода***\n",
    "\n",
    "            if verbose and it % 100 == 0:\n",
    "                print('iteration %d / %d: loss %f' % (it, num_iters, loss))\n",
    "\n",
    "        return loss_history\n",
    "\n",
    "    def predict(self, X):\n",
    "        \"\"\"\n",
    "        Используя веса после обучения линейного классификатора, предсказать классы для данных X.\n",
    "\n",
    "        Ввод:\n",
    "        - X: Массив numpy размерности (N, D) содержащий данные.\n",
    "\n",
    "        Вывод:\n",
    "        - y_pred: Предсказанные классы для данных в X.\n",
    "        y_pred одномерный массив длинной N и каждый элемент это целое число предсказанного класса.\n",
    "        \"\"\"\n",
    "        y_pred = np.zeros(X.shape[0])\n",
    "        \n",
    "        # Задание: Реализовать метод предсказания классов, используя полученные при обучении веса.\n",
    "        # Предсказаные классы записать в y_pred.\n",
    "        \n",
    "        # ***Начало вашего кода***\n",
    "\n",
    "        y_pred = np.argmax(X.dot(self.W),1)\n",
    "        \n",
    "        # ***Конец вашего кода***\n",
    "        return y_pred\n",
    "\n",
    "    def loss(self, X_batch, y_batch, reg):\n",
    "        pass\n",
    "\n",
    "\n",
    "class Softmax(LinearClassifier):\n",
    "\n",
    "    def loss(self, X_batch, y_batch, reg):\n",
    "        return softmax_loss_vectorized(self.W, X_batch, y_batch, reg)"
   ]
  },
  {
   "cell_type": "markdown",
   "metadata": {},
   "source": [
    "Используя проверочную выборку подберите гиперпараметры (степень регуляризации и скорость обучения). Вы должны поэксперементировать с разными диапазонами этих гиперпараметров. Можно добится точности классификации в 0,35 на проверочной выборке."
   ]
  },
  {
   "cell_type": "code",
   "execution_count": 28,
   "metadata": {},
   "outputs": [],
   "source": [
    "results = {}\n",
    "best_val = -1\n",
    "best_softmax = None\n",
    "learning_rates = [1e-7, 5e-7]\n",
    "regularization_strengths = [2.5e4, 5e4]\n",
    "\n",
    "for lr in learning_rates:\n",
    "    for reg in regularization_strengths:\n",
    "        k = (lr,reg) #f'lr = {str(lr)} / reg = {str(reg)}'\n",
    "        results[k] = []"
   ]
  },
  {
   "cell_type": "code",
   "execution_count": 29,
   "metadata": {},
   "outputs": [
    {
     "name": "stdout",
     "output_type": "stream",
     "text": [
      "Скорость обучения 1.000000e-07 регуляризация 2.500000e+04 точность при обучении: 0.350571 точность при проверке: 0.370000\n",
      "Скорость обучения 1.000000e-07 регуляризация 5.000000e+04 точность при обучении: 0.322857 точность при проверке: 0.339000\n",
      "Скорость обучения 5.000000e-07 регуляризация 2.500000e+04 точность при обучении: 0.340633 точность при проверке: 0.358000\n",
      "Скорость обучения 5.000000e-07 регуляризация 5.000000e+04 точность при обучении: 0.324224 точность при проверке: 0.335000\n",
      "Максимальная точность на проверочной выборке достигнутая за счет перекрестной проверки: 0.370000\n"
     ]
    }
   ],
   "source": [
    "# Задание: Напишите код, который подбирает лучшие значения гиперпараметров, корректируя их на проверочной выборке.\n",
    "# Максимальная точность для проверочной выборки сохраняется в best_val, а полученный классификатор в best_softmax.\n",
    "# Перекрестная проверка идентична тому, что было во втором задании.\n",
    "\n",
    "# ***Начало вашего кода***\n",
    "\n",
    "for lr in learning_rates:\n",
    "    for reg in regularization_strengths:\n",
    "        softmax = Softmax()\n",
    "        loss_hist = softmax.train(X_train, y_train, learning_rate=lr, reg=reg,\n",
    "                      num_iters=15000, verbose=False)\n",
    "        y_train_pred = softmax.predict(X_train)\n",
    "        y_val_pred = softmax.predict(X_val)\n",
    "        tr_acc = (np.mean(y_train_pred ==y_train ))\n",
    "        val_acc = (np.mean(y_val_pred == y_val))\n",
    "        if val_acc >= best_val:\n",
    "            best_softmax = softmax\n",
    "            best_lr = lr\n",
    "            best_reg = reg\n",
    "            best_val = val_acc\n",
    "        results[(lr, reg)] = tr_acc, val_acc\n",
    "\n",
    "# ***Конец вашего кода***\n",
    "    \n",
    "# Выводим результаты.\n",
    "for lr, reg in sorted(results):\n",
    "    train_accuracy, val_accuracy = results[(lr, reg)]\n",
    "    print('Скорость обучения %e регуляризация %e точность при обучении: %f точность при проверке: %f' % (\n",
    "                lr, reg, train_accuracy, val_accuracy))\n",
    "    \n",
    "print('Максимальная точность на проверочной выборке достигнутая за счет перекрестной проверки: %f' % best_val)"
   ]
  },
  {
   "cell_type": "code",
   "execution_count": 30,
   "metadata": {},
   "outputs": [],
   "source": [
    "best = best_softmax\n",
    "loss_hist = best.train(X_train, y_train, learning_rate=best_lr, reg=best_reg,\n",
    "                      num_iters=1500, verbose=False)"
   ]
  },
  {
   "cell_type": "code",
   "execution_count": 31,
   "metadata": {
    "colab": {},
    "colab_type": "code",
    "id": "tQWYnUUwJIdZ"
   },
   "outputs": [
    {
     "name": "stdout",
     "output_type": "stream",
     "text": [
      "Точность на тестовой выборке: 0.362000\n"
     ]
    }
   ],
   "source": [
    "# Оценим лучшую модель на тестовой выборке.\n",
    "y_test_pred = best_softmax.predict(X_test)\n",
    "test_accuracy = np.mean(y_test == y_test_pred)\n",
    "print('Точность на тестовой выборке: %f' % (test_accuracy, ))"
   ]
  },
  {
   "cell_type": "code",
   "execution_count": 32,
   "metadata": {
    "colab": {},
    "colab_type": "code",
    "id": "b2Vp-ScjJIdg"
   },
   "outputs": [
    {
     "data": {
      "image/png": "[encoded data removed]",
      "text/plain": [
       "<Figure size 432x288 with 10 Axes>"
      ]
     },
     "metadata": {
      "needs_background": "light"
     },
     "output_type": "display_data"
    }
   ],
   "source": [
    "# Визуализируем веса после обучения для каждого класса.\n",
    "w = best_softmax.W[:-1,:] # уберем отклонения\n",
    "w = w.reshape(32, 32, 3, 10)\n",
    "\n",
    "w_min, w_max = np.min(w), np.max(w)\n",
    "\n",
    "classes = ['plane', 'car', 'bird', 'cat', 'deer', 'dog', 'frog', 'horse', 'ship', 'truck']\n",
    "for i in range(10):\n",
    "    plt.subplot(2, 5, i + 1)\n",
    "    wimg = 255.0 * (w[:, :, :, i].squeeze() - w_min) / (w_max - w_min)\n",
    "    plt.imshow(wimg.astype('uint8'))\n",
    "    plt.axis('off')\n",
    "    plt.title(classes[i])"
   ]
  },
  {
   "cell_type": "code",
   "execution_count": null,
   "metadata": {},
   "outputs": [],
   "source": []
  }
 ],
 "metadata": {
  "colab": {
   "collapsed_sections": [],
   "name": "2 SVM.ipynb",
   "provenance": []
  },
  "kernelspec": {
   "display_name": "Python 3",
   "language": "python",
   "name": "python3"
  },
  "language_info": {
   "codemirror_mode": {
    "name": "ipython",
    "version": 3
   },
   "file_extension": ".py",
   "mimetype": "text/x-python",
   "name": "python",
   "nbconvert_exporter": "python",
   "pygments_lexer": "ipython3",
   "version": "3.7.4"
  }
 },
 "nbformat": 4,
 "nbformat_minor": 1
}
