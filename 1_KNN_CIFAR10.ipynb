{
 "cells": [
  {
   "cell_type": "markdown",
   "metadata": {
    "tags": [
     "pdf-title"
    ]
   },
   "source": [
    "# Задание 1 Метод k-ближайших соседей (kNN) для задачи классификации изображений\n",
    "\n",
    "Цель: написать классификатор kNN и использовать его на базе CIFAR-10.\n",
    "\n",
    "Скачать базу изображений CIFAR-10 для задания можно по ссылке https://www.cs.toronto.edu/~kriz/cifar.html.\n",
    "\n",
    "Этапы выполнения:\n",
    "\n",
    "1. Обучить классификатор — выгрузить все данные в память;\n",
    "2. Проверить классификатор — сравнить все тестовые изображения с изображениями из обучения и присвоить классы от k ближайших соседей;\n",
    "3. Провести перекрестную проверку гиперпараметра k.\n",
    "\n",
    "Ниже созданы ячейки для кода с комментариями, в которых указано, что необходимо сделать."
   ]
  },
  {
   "cell_type": "code",
   "execution_count": 1,
   "metadata": {
    "tags": [
     "pdf-ignore"
    ]
   },
   "outputs": [
    {
     "name": "stderr",
     "output_type": "stream",
     "text": [
      "Using TensorFlow backend.\n"
     ]
    }
   ],
   "source": [
    "# coding: utf8 Для кодировки и отображения графиков в этом же \"блокноте\".\n",
    "\n",
    "from __future__ import unicode_literals\n",
    "%matplotlib inline\n",
    "\n",
    "# Здесь же подключайте и другие требуемые библиотеки.\n",
    "from sklearn.neighbors import KNeighborsClassifier\n",
    "from keras.datasets import cifar10\n",
    "import numpy as np\n",
    "from collections import Counter\n",
    "\n",
    "import matplotlib.pyplot as plt"
   ]
  },
  {
   "cell_type": "code",
   "execution_count": 2,
   "metadata": {
    "tags": [
     "pdf-ignore"
    ]
   },
   "outputs": [
    {
     "name": "stdout",
     "output_type": "stream",
     "text": [
      "Размер данных обучающей выборки: (2000, 3072)\n",
      "Размер разметки обучающей выборки: (2000, 1)\n",
      "Совпадает ли размер данных обучающей выборки с размером разметки обучающей выборки : True\n",
      "Размер данных тестовой выборки: (300, 3072)\n",
      "Размер разметки тестовой выборки: (300, 1)\n",
      "Совпадает ли размер данных тестовой выборки с размером разметки тестовой выборки : True\n",
      "Всего изображений: 2300\n"
     ]
    }
   ],
   "source": [
    "# Необходимо загрузить изображения CIFAR-10 в память:\n",
    "# изображения_обучение, классы_обучение, изображения_тест, классы_тест\n",
    "\n",
    "(x_train, y_train), (x_test, y_test) = cifar10.load_data()\n",
    "\n",
    "# Для проверки корректности загрузки выведите размеры 4-х групп данных\n",
    "x_train_red = x_train[:2000]\n",
    "y_train_red = y_train[:2000]\n",
    "x_test_red = x_test[:300]\n",
    "y_test_red = y_test[:300]\n",
    "\n",
    "x_train_red = x_train_red.reshape(x_train_red.shape[0],-1)\n",
    "x_test_red = x_test_red.reshape(x_test_red.shape[0],-1)\n",
    "\n",
    "#*** Ваш код ***\n",
    "print(f'Размер данных обучающей выборки: {x_train_red.shape}')\n",
    "print(f'Размер разметки обучающей выборки: {y_train_red.shape}')\n",
    "print(f'Совпадает ли размер данных обучающей выборки с размером разметки обучающей выборки : \\\n",
    "{x_train_red.shape[0] == y_train_red.shape[0]}')\n",
    "print(f'Размер данных тестовой выборки: {x_test_red.shape}')\n",
    "print(f'Размер разметки тестовой выборки: {y_test_red.shape}')\n",
    "print(f'Совпадает ли размер данных тестовой выборки с размером разметки тестовой выборки : \\\n",
    "{x_test_red.shape[0] == y_test_red.shape[0]}')\n",
    "\n",
    "print(f'Всего изображений: {x_train_red.shape[0] + x_test_red.shape[0]}')"
   ]
  },
  {
   "cell_type": "code",
   "execution_count": 3,
   "metadata": {},
   "outputs": [],
   "source": [
    "#скалируем значения от 0 до 1\n",
    "def norm_data(X):\n",
    "    X_norm = (X - np.min(X)) / (np.max(X) - np.min(X))\n",
    "    return X_norm\n",
    "\n",
    "#обработка y-ков в нужный формат списка\n",
    "def procces_y_data(y):\n",
    "    y_true = y\n",
    "    y_ok =[]\n",
    "    for i in range(len(y_true)):\n",
    "        y_ok.append(y_true[i][0])\n",
    "    return y_ok\n",
    "    \n",
    "x_train_red = norm_data(x_train_red)\n",
    "x_test_red = norm_data(x_test_red)\n",
    "y_test_red = procces_y_data(y_test_red)\n",
    "y_train_red = procces_y_data(y_train_red)"
   ]
  },
  {
   "cell_type": "code",
   "execution_count": 4,
   "metadata": {
    "tags": [
     "pdf-ignore"
    ]
   },
   "outputs": [],
   "source": [
    "# Теперь необходимо рассчитать расстояния между изображениями обучающей и тестовой выборок.\n",
    "# Должна получится матрица расстояний размерностью (Nобуч x Nтест), где каждый элемент это расстояние между изображениями.\n",
    "# Исходя из полученных расстояний, необходимо по k-соседям выбрать класс изображения.\n",
    "\n",
    "#расчет l2-дистанций\n",
    "def compute_distances(X_train, X_test):\n",
    "    num_test = X_test.shape[0]\n",
    "    num_train = X_train.shape[0]\n",
    "    dists = np.zeros((num_test, num_train))\n",
    "    for i in range(num_test):\n",
    "        print(f'{i+1}/{num_test}', end ='\\r')\n",
    "        for j in range(num_train):\n",
    "            dist = 0\n",
    "            row1= X_train[j]\n",
    "            row2 = X_test[i]\n",
    "            for k in range(len(row1)-1):\n",
    "                dist += (row1[k] - row2[k])**2\n",
    "            dists[i, j] = np.sqrt(dist)\n",
    "    return dists.T\n",
    " \n",
    "class KNN:\n",
    "    def __init__(self, X, y, X_test):\n",
    "        self.X_train = X\n",
    "        self.y_train = y\n",
    "        self.X_test = X_test\n",
    "        \n",
    "    def fit(self):\n",
    "        distances = compute_distances(self.X_test,self.X_train)\n",
    "        return distances\n",
    "                \n",
    "    def predict(self, k , dists):\n",
    "        predicted_labels = self._predict(k, dists)\n",
    "        return np.array(predicted_labels)\n",
    "\n",
    "    def _predict(self, k , dists):\n",
    "        preds = []\n",
    "        for i in range(len(self.X_test)):\n",
    "            distances = dists[i]\n",
    "            k_indices = np.argsort(distances)[:k] \n",
    "            k_labels = [self.y_train[j] for j in k_indices]\n",
    "            majority_vote = Counter(k_labels).most_common(1)\n",
    "            preds.append(majority_vote[0][0])\n",
    "        return preds"
   ]
  },
  {
   "cell_type": "code",
   "execution_count": 380,
   "metadata": {},
   "outputs": [
    {
     "name": "stdout",
     "output_type": "stream",
     "text": [
      "2000/2000\r"
     ]
    }
   ],
   "source": [
    "# Теперь необходимо рассчитать расстояния между изображениями обучающей и тестовой выборок.\n",
    "# Должна получится матрица расстояний размерностью (Nобуч x Nтест), где каждый элемент это расстояние между изображениями.\n",
    "# Исходя из полученных расстояний, необходимо по k-соседям выбрать класс изображения.\n",
    "net = KNN(x_train_red, y_train_red, x_test_red)\n",
    "dists = net.fit()"
   ]
  },
  {
   "cell_type": "code",
   "execution_count": 387,
   "metadata": {},
   "outputs": [
    {
     "name": "stdout",
     "output_type": "stream",
     "text": [
      "результирующая точность для (k = 1) = 23.6667 %\n"
     ]
    }
   ],
   "source": [
    "# Отобразите точность работы классификатора (количество правильных классов) для случая k=1.\n",
    "# Она должна оказаться около 27%.\n",
    "predictions = net.predict(1, dists)\n",
    "acc =  np.sum(predictions == y_test_red) / len(y_test_red)\n",
    "print(f'результирующая точность для (k = 1) = {np.round(acc*100,4)} %')"
   ]
  },
  {
   "cell_type": "code",
   "execution_count": 386,
   "metadata": {},
   "outputs": [
    {
     "name": "stdout",
     "output_type": "stream",
     "text": [
      "результирующая точность для (k = 5) = 25.6667 %\n"
     ]
    }
   ],
   "source": [
    "# Теперь для случая k=5.\n",
    "predictions = net.predict(5 , dists)\n",
    "    \n",
    "acc =  np.sum(predictions == y_test_red) / len(y_test_red)\n",
    "print(f'результирующая точность для (k = 5) = {np.round(acc*100,4)} %')"
   ]
  },
  {
   "cell_type": "markdown",
   "metadata": {},
   "source": [
    "### Перекрестная проверка\n",
    "\n",
    "Ранее вы попробовали значения k=1 и k=5. Теперь необходимо выбрать лучшее значение этого гиперпараметра при помощи перекрестной проверки."
   ]
  },
  {
   "cell_type": "code",
   "execution_count": 388,
   "metadata": {
    "tags": [
     "code"
    ]
   },
   "outputs": [
    {
     "name": "stdout",
     "output_type": "stream",
     "text": [
      "num fold=0\n",
      "1600/1600\n",
      "num fold=1\n",
      "1600/1600\n",
      "num fold=2\n",
      "1600/1600\n",
      "num fold=3\n",
      "1600/1600\n",
      "num fold=4\n",
      "1600/1600\n",
      "k=1\n",
      "k=3\n",
      "k=5\n",
      "k=8\n",
      "k=10\n",
      "k=12\n",
      "k=15\n",
      "k=20\n",
      "k=50\n",
      "k=100\n"
     ]
    }
   ],
   "source": [
    "# Разбейте базу на 5 подвыборок.\n",
    "# И рассчитайте точность для k 1, 3, 5, 8, 10, 12, 15, 20, 50, 100.\n",
    "num_folds = 5\n",
    "k_choices = [1, 3, 5, 8, 10, 12, 15, 20, 50, 100]\n",
    "\n",
    "X_train_folds = np.array_split(x_train_red, num_folds)\n",
    "\n",
    "y_train_folds = np.array_split(y_train_red, num_folds)\n",
    "\n",
    "k_to_accuracies = {}\n",
    "for k in k_choices:\n",
    "    k_to_accuracies[k] = []\n",
    "    \n",
    "dist_folds = {}\n",
    "for i in range(num_folds):\n",
    "    dist_folds[i+1] = []\n",
    "    \n",
    "#расчет дистанций для каждой подвыборки\n",
    "for j in range(num_folds):\n",
    "    print('num fold=%d' % j+1)\n",
    "    X_train_crossval = np.vstack(X_train_folds[0:j] + X_train_folds[j+1:])\n",
    "    X_test_crossval = X_train_folds[j]\n",
    "    y_train_crossval = np.hstack(y_train_folds[0:j]+y_train_folds[j+1:])\n",
    "    y_test_crossval = y_train_folds[j]\n",
    "    net = KNN(X_train_crossval, y_train_crossval, X_test_crossval)\n",
    "    dists = net.fit()\n",
    "    dist_folds[j+1].append(dists)\n",
    "    print()\n",
    "\n",
    "#предсказание значений\n",
    "for k in k_choices:\n",
    "    print('k=%d' % k)\n",
    "    acc = []\n",
    "    for j in range(num_folds):\n",
    "        # Use all but one folds as our crossval training set\n",
    "        X_train_crossval = np.vstack(X_train_folds[0:j] + X_train_folds[j+1:])\n",
    "        # Use the last fold as our crossval test set\n",
    "        X_test_crossval = X_train_folds[j]\n",
    "        y_train_crossval = np.hstack(y_train_folds[0:j]+y_train_folds[j+1:])\n",
    "        y_test_crossval = y_train_folds[j]\n",
    "        net = KNN(X_train_crossval, y_train_crossval, X_test_crossval)\n",
    "        dists = dist_folds[j+1][0]\n",
    "        y_test_pred = predictions = net.predict(k , dists)\n",
    "        num_correct = np.sum(y_test_pred == y_test_crossval)\n",
    "        accuracy = float(num_correct) / len(y_test_crossval)\n",
    "        acc.append(accuracy)\n",
    "    k_to_accuracies[k].append(np.array(acc).mean())"
   ]
  },
  {
   "cell_type": "code",
   "execution_count": 389,
   "metadata": {
    "tags": [
     "pdf-ignore-input"
    ]
   },
   "outputs": [
    {
     "data": {
      "image/png": "[encoded data removed]",
      "text/plain": [
       "<Figure size 432x288 with 1 Axes>"
      ]
     },
     "metadata": {
      "needs_background": "light"
     },
     "output_type": "display_data"
    }
   ],
   "source": [
    "# Постройте график точности от количества соседей k.\n",
    "x = list(k_to_accuracies.keys())\n",
    "y = list(k_to_accuracies.values())\n",
    "plt.plot(x,y)\n",
    "plt.xticks(x)\n",
    "plt.show()"
   ]
  },
  {
   "cell_type": "code",
   "execution_count": 5,
   "metadata": {},
   "outputs": [
    {
     "name": "stdout",
     "output_type": "stream",
     "text": [
      "2000/2000\n",
      "результирующая точность для лучшего гиперпараметра 27.0 %\n"
     ]
    }
   ],
   "source": [
    "# Основываясь на полученном k обучите модель на всех данных. Точность на тестовой воборке должна превысить 28%.\n",
    "net = KNN(x_train_red, y_train_red, x_test_red)\n",
    "dists = net.fit()\n",
    "y_test_pred = predictions = net.predict(3 , dists)\n",
    "num_correct = np.sum(y_test_pred == y_test_red)\n",
    "accuracy = float(num_correct) / len(y_test_red)\n",
    "print()\n",
    "print(f'результирующая точность для лучшего гиперпараметра {np.round(accuracy*100,4)} %')"
   ]
  },
  {
   "cell_type": "code",
   "execution_count": null,
   "metadata": {},
   "outputs": [],
   "source": []
  }
 ],
 "metadata": {
  "hide_input": false,
  "kernelspec": {
   "display_name": "Python 3",
   "language": "python",
   "name": "python3"
  },
  "language_info": {
   "codemirror_mode": {
    "name": "ipython",
    "version": 3
   },
   "file_extension": ".py",
   "mimetype": "text/x-python",
   "name": "python",
   "nbconvert_exporter": "python",
   "pygments_lexer": "ipython3",
   "version": "3.7.6"
  },
  "varInspector": {
   "cols": {
    "lenName": 16,
    "lenType": 16,
    "lenVar": 40
   },
   "kernels_config": {
    "python": {
     "delete_cmd_postfix": "",
     "delete_cmd_prefix": "del ",
     "library": "var_list.py",
     "varRefreshCmd": "print(var_dic_list())"
    },
    "r": {
     "delete_cmd_postfix": ") ",
     "delete_cmd_prefix": "rm(",
     "library": "var_list.r",
     "varRefreshCmd": "cat(var_dic_list()) "
    }
   },
   "types_to_exclude": [
    "module",
    "function",
    "builtin_function_or_method",
    "instance",
    "_Feature"
   ],
   "window_display": false
  }
 },
 "nbformat": 4,
 "nbformat_minor": 1
}
